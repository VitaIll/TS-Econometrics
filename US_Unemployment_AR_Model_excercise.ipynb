{
 "cells": [
  {
   "cell_type": "code",
   "execution_count": 241,
   "metadata": {},
   "outputs": [
    {
     "data": {
      "text/html": [
       "<div>\n",
       "<style scoped>\n",
       "    .dataframe tbody tr th:only-of-type {\n",
       "        vertical-align: middle;\n",
       "    }\n",
       "\n",
       "    .dataframe tbody tr th {\n",
       "        vertical-align: top;\n",
       "    }\n",
       "\n",
       "    .dataframe thead th {\n",
       "        text-align: right;\n",
       "    }\n",
       "</style>\n",
       "<table border=\"1\" class=\"dataframe\">\n",
       "  <thead>\n",
       "    <tr style=\"text-align: right;\">\n",
       "      <th></th>\n",
       "      <th>DATE</th>\n",
       "      <th>UN_US</th>\n",
       "      <th>diff_UN_US</th>\n",
       "    </tr>\n",
       "  </thead>\n",
       "  <tbody>\n",
       "    <tr>\n",
       "      <th>0</th>\n",
       "      <td>1948-01-01</td>\n",
       "      <td>3.4</td>\n",
       "      <td>NaN</td>\n",
       "    </tr>\n",
       "    <tr>\n",
       "      <th>1</th>\n",
       "      <td>1948-02-01</td>\n",
       "      <td>3.8</td>\n",
       "      <td>0.4</td>\n",
       "    </tr>\n",
       "    <tr>\n",
       "      <th>2</th>\n",
       "      <td>1948-03-01</td>\n",
       "      <td>4.0</td>\n",
       "      <td>0.2</td>\n",
       "    </tr>\n",
       "    <tr>\n",
       "      <th>3</th>\n",
       "      <td>1948-04-01</td>\n",
       "      <td>3.9</td>\n",
       "      <td>-0.1</td>\n",
       "    </tr>\n",
       "    <tr>\n",
       "      <th>4</th>\n",
       "      <td>1948-05-01</td>\n",
       "      <td>3.5</td>\n",
       "      <td>-0.4</td>\n",
       "    </tr>\n",
       "  </tbody>\n",
       "</table>\n",
       "</div>"
      ],
      "text/plain": [
       "        DATE  UN_US  diff_UN_US\n",
       "0 1948-01-01    3.4         NaN\n",
       "1 1948-02-01    3.8         0.4\n",
       "2 1948-03-01    4.0         0.2\n",
       "3 1948-04-01    3.9        -0.1\n",
       "4 1948-05-01    3.5        -0.4"
      ]
     },
     "execution_count": 241,
     "metadata": {},
     "output_type": "execute_result"
    }
   ],
   "source": [
    "import numpy as np\n",
    "import scipy as sc\n",
    "import matplotlib.pyplot as plt\n",
    "import pandas as pd\n",
    "import seaborn as sns\n",
    "#=================================\n",
    "df = pd.read_excel(\"un_us.xlsx\")\n",
    "df['DATE'] = pd.to_datetime(df['DATE'], format='%Y-%m-%d')\n",
    "d = df[\"UN_US\"].diff()\n",
    "df.insert(2, \"diff_UN_US\", d, True)\n",
    "df = df[[\"DATE\",\"UN_US\",\"diff_UN_US\"]]\n",
    "df.head()"
   ]
  },
  {
   "cell_type": "code",
   "execution_count": 407,
   "metadata": {},
   "outputs": [
    {
     "data": {
      "image/png": "[encoded data removed]",
      "text/plain": [
       "<Figure size 432x288 with 1 Axes>"
      ]
     },
     "metadata": {
      "needs_background": "light"
     },
     "output_type": "display_data"
    }
   ],
   "source": [
    "x = df[[\"DATE\"]]\n",
    "y = df[[\"UN_US\"]]\n",
    "d = df[[\"diff_UN_US\"]]\n",
    "a = (x.iloc(0))[0]\n",
    "#============================================\n",
    "fig, ax = plt.subplots()\n",
    "ax.plot(x,y, label = \"$u_t$ [%]\")\n",
    "ax.plot(x,d, label = \"$Δu_t$  [%]\" )\n",
    "ax.legend()\n",
    "ax.set_title(\"US unemployment\")\n",
    "ax.set_xlim(a,b)\n",
    "plt.savefig(\"un.jpg\")\n",
    "#==========================================="
   ]
  },
  {
   "cell_type": "code",
   "execution_count": 394,
   "metadata": {
    "scrolled": false
   },
   "outputs": [
    {
     "name": "stdout",
     "output_type": "stream",
     "text": [
      "β estimate:[[0.04164286]]\n",
      "standard coeff errors:[0.03342874]\n",
      "AIC:[4529.48555212]\n",
      "BIC:4534.282375840894\n"
     ]
    }
   ],
   "source": [
    "from numpy import linalg as lin\n",
    "\n",
    "def I(X):\n",
    "    return lin.inv(X)\n",
    "\n",
    "x = d.to_numpy()\n",
    "x = np.transpose(x)\n",
    "\n",
    "l = (np.shape(x))[1]\n",
    "k = 1\n",
    "X = np.zeros([k,l])\n",
    "for i in range(k):\n",
    "    X[i,:] =np.roll (x,-(i+1))\n",
    "\n",
    "y = (x[:,1:l-k]).T\n",
    "X = (X[:,1:l-k]).T\n",
    "#========================== ols custom factions\n",
    "def ac(x,k):\n",
    "    l = (np.shape(x))[1]\n",
    "    c = (np.corrcoef(x[:,:l-k],(np.roll(x,-k))[:,:l-k]))[0,1]\n",
    "    return c\n",
    "\n",
    "\n",
    "def ols(y,X):\n",
    "    return (I(X.T@X)@(X.T@y))\n",
    "\n",
    "def err(y,X):\n",
    "    β = np.zeros([])\n",
    "    β = ols(y,X)\n",
    "    return (y-X@β)\n",
    "\n",
    "def β_err(y,X):\n",
    "    β = ols(y,X)\n",
    "    e = err(y,X)\n",
    "    vare = (e.T@e)/((np.shape(X))[0]-len(β))\n",
    "    return np.diag(vare*I(X.T@X))\n",
    "\n",
    "def bic(y,X):\n",
    "    e = err(y,X)\n",
    "    meane = np.mean(e.T@e)\n",
    "    n = len(y)\n",
    "    k = (np.shape(X))[1]\n",
    "    return n*np.log(meane)+k*np.log(n)\n",
    "\n",
    "def aic(y,X):\n",
    "    e = err(y,X)\n",
    "    rss = sum(e.T@e)\n",
    "    n = len(y)\n",
    "    k = (np.shape(X))[1]\n",
    "    return n*np.log(rss)+k*2\n",
    "#========================================== test functions    \n",
    "\n",
    "β = ols(y,X)\n",
    "e = err(y,X)\n",
    "β_e = np.sqrt(β_err(y,X))\n",
    "aicm = aic(y,X)\n",
    "bicm = bic(y,X)\n",
    "\n",
    "print(f\"β estimate:{β.T}\")\n",
    "print(f\"standard coeff errors:{β_e}\")\n",
    "print(f\"AIC:{aicm}\")\n",
    "print(f\"BIC:{bicm}\")"
   ]
  },
  {
   "cell_type": "code",
   "execution_count": 432,
   "metadata": {},
   "outputs": [
    {
     "name": "stdout",
     "output_type": "stream",
     "text": [
      "AIC for lag order k =1 is:2045.92486568035\n",
      "BIC for lag order k =1 is:2050.3184564343005\n",
      "AIC for lag order k =2 is:1997.088915366526\n",
      "BIC for lag order k =2 is:2005.8727495933113\n",
      "AIC for lag order k =3 is:1977.2611465630164\n",
      "BIC for lag order k =3 is:1990.4318685642124\n",
      "AIC for lag order k =4 is:1971.710838665993\n",
      "BIC for lag order k =4 is:1989.2650842881753\n",
      "AIC for lag order k =5 is:1966.424749087447\n",
      "BIC for lag order k =5 is:1988.3591456842603\n",
      "AIC for lag order k =6 is:1964.0953228849812\n",
      "BIC for lag order k =6 is:1990.4064892789675\n",
      "minimu AIC is 1964.0953228849812\n",
      "minimu BIC is 1988.3591456842603\n"
     ]
    }
   ],
   "source": [
    "d = df[[\"diff_UN_US\"]]\n",
    "x = d.to_numpy()\n",
    "x = np.transpose(x)\n",
    "N = 600\n",
    "x = x[:,:N]\n",
    "l = (np.shape(x))[1]\n",
    "#=====================================\n",
    "k = 7\n",
    "aicm = np.zeros(k)\n",
    "bicm = np.zeros(k)\n",
    "#======================================\n",
    "\n",
    "for j in range(1,k):\n",
    "    X = np.zeros([j,l])\n",
    "    for i in range(j):\n",
    "        X[i,:] =np.roll (x,-(i+1))\n",
    "\n",
    "    y = (x[:,1:l-j]).T\n",
    "    X = (X[:,1:l-j]).T\n",
    "    aicm[j] = aic(y,X)\n",
    "    bicm[j] = bic(y,X)\n",
    "    print(f\"AIC for lag order k ={j} is:{aicm[j]}\")\n",
    "    print(f\"BIC for lag order k ={j} is:{bicm[j]}\")\n",
    "\n",
    "print(f\"minimu AIC is {min(aicm[1:])}\")\n",
    "print(f\"minimu BIC is {min(bicm[1:])}\")"
   ]
  },
  {
   "cell_type": "code",
   "execution_count": 439,
   "metadata": {},
   "outputs": [
    {
     "name": "stdout",
     "output_type": "stream",
     "text": [
      "(594, 5)\n",
      "β estimate:[[0.00844267 0.22832207 0.14741262 0.08136289 0.0819471 ]]\n",
      "standard coeff errors:[0.04124369 0.04116864 0.04174451 0.04125345 0.0413767 ]\n",
      "AIC:[1966.42474909]\n",
      "BIC:1988.3591456842603\n",
      "[598.8092124911519, 18.307038053275146]\n",
      "there is ac for 10 lags and significance α = 0.05\n"
     ]
    },
    {
     "data": {
      "image/png": "[encoded data removed]",
      "text/plain": [
       "<Figure size 432x288 with 1 Axes>"
      ]
     },
     "metadata": {
      "needs_background": "light"
     },
     "output_type": "display_data"
    }
   ],
   "source": [
    "import statsmodels.graphics\n",
    "from statsmodels.graphics.tsaplots import plot_acf\n",
    "\n",
    "# Based on BIC choose lag order one\n",
    "d = df[[\"diff_UN_US\"]]\n",
    "x = d.to_numpy()\n",
    "x = np.transpose(x)\n",
    "N = 600\n",
    "x = x[:,:600]\n",
    "l = (np.shape(x))[1]\n",
    "#===================================\n",
    "k = 5\n",
    "X = np.zeros([k,l])\n",
    "for i in range(k):\n",
    "    X[i,:] =np.roll (x,-(i+1))\n",
    "y = (x[:,1:l-k]).T\n",
    "X = (X[:,1:l-k]).T\n",
    "#===================================\n",
    "β = ols(y,X)\n",
    "e = err(y,X)\n",
    "β_e = np.sqrt(β_err(y,X))\n",
    "aicm = aic(y,X)\n",
    "bicm = bic(y,X)\n",
    "print(np.shape(X))\n",
    "print(f\"β estimate:{β.T}\")\n",
    "print(f\"standard coeff errors:{β_e}\")\n",
    "print(f\"AIC:{aicm}\")\n",
    "print(f\"BIC:{bicm}\")\n",
    "\n",
    "fig, ax = plt.subplots()\n",
    "plot_acf(e, ax = ax)\n",
    "ax.set_title(\"ACF of regression residuals\")\n",
    "ax.set_xlabel(\"lags\")\n",
    "plt.savefig(\"acf.jpg\")\n",
    "#=========================================\n",
    "# Ljung- Box test\n",
    "def Q(err,h):\n",
    "    n = (np.shape(err))[1]\n",
    "    q = 0\n",
    "    for k in range(h):\n",
    "        q = ((ac(err,k))**2)/(n-k) + q\n",
    "    q = n*(n+2)*q\n",
    "    return q\n",
    "  \n",
    "α = 0.05\n",
    "h = 10\n",
    "Qs = Q(e.T,h) \n",
    "\n",
    "\n",
    "from scipy import stats\n",
    "qch2 = stats.chi2.ppf(1-α,h)\n",
    "print([Qs,qch2])\n",
    "if Qs>qch2:\n",
    "    print(f\"there is ac for {h} lags and significance α = {α}\")\n",
    "else:\n",
    "    print(f\"no ac for {h} lags and significance α = {α}\")"
   ]
  },
  {
   "cell_type": "code",
   "execution_count": 446,
   "metadata": {},
   "outputs": [
    {
     "data": {
      "image/png": "[encoded data removed]",
      "text/plain": [
       "<Figure size 432x288 with 1 Axes>"
      ]
     },
     "metadata": {
      "needs_background": "light"
     },
     "output_type": "display_data"
    }
   ],
   "source": [
    "# Impulse response functions\n",
    "d = df[[\"diff_UN_US\"]]\n",
    "x = d.to_numpy()\n",
    "x = np.transpose(x)\n",
    "N = 600\n",
    "x = x[:,:600]\n",
    "l = (np.shape(x))[1]\n",
    "#===================================\n",
    "k = 5\n",
    "X = np.zeros([k,l])\n",
    "for i in range(k):\n",
    "    X[i,:] =np.roll (x,-(i+1))\n",
    "y = (x[:,1:l-k]).T\n",
    "X = (X[:,1:l-k]).T\n",
    "#=================================\n",
    "β = ols(y,X)\n",
    "#=================================\n",
    "L = 20\n",
    "index = np.arange(0,L)\n",
    "IRF = np.zeros(L)\n",
    "IRFu = np.zeros(L)\n",
    "IRF[0] = 1\n",
    "#=================================\n",
    "for i in range(k-1,L):\n",
    "    IRF[i] = β[0]*IRF[i-1] + β[1]*IRF[i-2]+ β[2]*IRF[i-3] +β[3]*IRF[i-4]+β[4]*IRF[i-5]+ IRF[i]\n",
    "    IRFu[i] = IRFu[i-1] + IRF[i]\n",
    "\n",
    "    \n",
    "fig, ax = plt.subplots()\n",
    "ax.plot(index,IRF, label = \"IRF differences of unemployment\",lw=2)\n",
    "ax.plot(index,IRFu, label = \"IRF unemployment\",alpha = 0.5,lw=3)\n",
    "ax.legend()\n",
    "ax.set_title(\"Impulse response functions\")\n",
    "ax.set_xlabel(\"$t$\")\n",
    "ax.set_xlim(0,L)\n",
    "plt.savefig(\"IRFs.jpg\")"
   ]
  },
  {
   "cell_type": "code",
   "execution_count": 413,
   "metadata": {},
   "outputs": [
    {
     "name": "stdout",
     "output_type": "stream",
     "text": [
      "[0.98316507]\n",
      "[-0.40787818]\n",
      "Unemployment does have unit root, significance level α = 0.01\n"
     ]
    }
   ],
   "source": [
    "# Augmented Dicky-Fuller test\n",
    "# tested regression: u(t) = c + βu(t-1) + δ1Δu(t-1)+ δ2u(t-2) + δ3Δu(t-3)+...+ δpu(t-p)\n",
    "u = df[[\"UN_US\"]]\n",
    "d = df[[\"diff_UN_US\"]]\n",
    "#===================================\n",
    "u = u.to_numpy()\n",
    "x = d.to_numpy()\n",
    "x = np.transpose(x)\n",
    "N = 600\n",
    "u = (u.T)[:,:600]\n",
    "x = x[:,:600]\n",
    "l = (np.shape(x))[1]\n",
    "#===================================\n",
    "k = 10\n",
    "X = np.ones([k+2,l])\n",
    "for i in range(2,k+2):\n",
    "    X[i,:] = np.roll(x,-(i+1))\n",
    "\n",
    "X[1,:] = (np.roll(u,-1))\n",
    "u = u\n",
    "u = (u[:,1:l-k-2]).T\n",
    "X = (X[:,1:l-k-2]).T\n",
    "\n",
    "#====================================\n",
    "e = err(u,X)\n",
    "β = ols(u,X)\n",
    "βdf = β[1]\n",
    "βdferr = (β_err(u,X))[1]\n",
    "t = βdf/βdferr # t test\n",
    "#====================================\n",
    "DF = (βdf-1)*np.sqrt((np.shape(X))[0])\n",
    "α = 0.01\n",
    "qdf = -3.434\n",
    "print(βdf)\n",
    "print(DF)\n",
    "if DF < qdf:\n",
    "    print(f\"Unemployment does not have unit root, significance level α = {α}\")\n",
    "else:\n",
    "    print(f\"Unemployment does have unit root, significance level α = {α}\")        "
   ]
  },
  {
   "cell_type": "code",
   "execution_count": 442,
   "metadata": {},
   "outputs": [
    {
     "name": "stdout",
     "output_type": "stream",
     "text": [
      "[4.9        4.8        4.9        4.6632708  4.56122683 4.50472507\n",
      " 4.44599386 4.40648858 4.35671448 4.32565725 4.29879825 4.27611599\n",
      " 4.25792665 4.24202912 4.22966785 4.21920588 4.21061302 4.20354554\n",
      " 4.1976732  4.19287908 4.18889951 4.18562646 4.18292654 4.18069852\n",
      " 4.17886411]\n",
      "[[4.9 4.8 4.9 4.7 4.6 4.7 4.6 4.6 4.7 4.3 4.4 4.5 4.5 4.5 4.6 4.5 4.4 4.4\n",
      "  4.3 4.4 4.2 4.3 4.2 4.3 4.3]]\n"
     ]
    },
    {
     "data": {
      "image/png": "[encoded data removed]",
      "text/plain": [
       "<Figure size 432x288 with 1 Axes>"
      ]
     },
     "metadata": {
      "needs_background": "light"
     },
     "output_type": "display_data"
    }
   ],
   "source": [
    "# forecasts\n",
    "u = df[[\"UN_US\"]]\n",
    "d = df[[\"diff_UN_US\"]]\n",
    "#===================================\n",
    "L = 20\n",
    "u = u.to_numpy()\n",
    "x = d.to_numpy()\n",
    "x = np.transpose(x)\n",
    "N = 600\n",
    "ur = u.T[:,(600-6):(600-1+L)]\n",
    "u = (u.T)[:,:600]\n",
    "x = x[:,:600]\n",
    "l = (np.shape(x))[1]\n",
    "#===================================\n",
    "k = 5\n",
    "X = np.zeros([k,l])\n",
    "for i in range(k):\n",
    "    X[i,:] =np.roll (x,-(i+1))\n",
    "y = (x[:,1:l-k]).T\n",
    "X = (X[:,1:l-k]).T\n",
    "#=================================\n",
    "β = ols(y,X)\n",
    "#=================================\n",
    "ind = (np.shape(u))[1]\n",
    "f = np.arange(ind-6,ind+L-1)\n",
    "index = np.arange(0,ind)\n",
    "IRF = np.zeros(5+L)\n",
    "IRFu = np.zeros(5+L)\n",
    "IRF[0:5] = x[:,ind-6:ind-1]\n",
    "IRFu[0:5] = u[:,ind-6:ind-1]\n",
    "#=================================\n",
    "for i in range(k-2,L+5):\n",
    "    IRF[i] =  β[0]*IRF[i-1] + β[1]*IRF[i-2]+ β[2]*IRF[i-3] +β[3]*IRF[i-4]+β[4]*IRF[i-5]+ IRF[i]\n",
    "    IRFu[i] = IRF[i] + IRFu[i-1]\n",
    "print(IRFu)\n",
    "print(ur)  \n",
    "fig, ax = plt.subplots()\n",
    "ax.plot(index,u[0,:ind], label = \"Sample Unemployment\")\n",
    "ax.plot(f[3:],IRFu[3:], label = \"Forecast of unemployment\")\n",
    "ax.plot(f[4:],ur[0,4:], label = \"Out of sample unemployment\")\n",
    "ax.legend()\n",
    "ax.set_title(\"Shor-term Unemployment Forecast, AR(5)  \")\n",
    "ax.set_xlim(575,ind+L)\n",
    "ax.set_ylim(4.1,5.65)\n",
    "plt.savefig(\"for.jpg\")"
   ]
  }
 ],
 "metadata": {
  "kernelspec": {
   "display_name": "Python 3",
   "language": "python",
   "name": "python3"
  },
  "language_info": {
   "codemirror_mode": {
    "name": "ipython",
    "version": 3
   },
   "file_extension": ".py",
   "mimetype": "text/x-python",
   "name": "python",
   "nbconvert_exporter": "python",
   "pygments_lexer": "ipython3",
   "version": "3.7.6"
  }
 },
 "nbformat": 4,
 "nbformat_minor": 4
}
